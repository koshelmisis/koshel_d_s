{
  "nbformat": 4,
  "nbformat_minor": 0,
  "metadata": {
    "colab": {
      "name": "Untitled6.ipynb",
      "provenance": [],
      "include_colab_link": true
    },
    "kernelspec": {
      "name": "python3",
      "display_name": "Python 3"
    }
  },
  "cells": [
    {
      "cell_type": "markdown",
      "metadata": {
        "id": "view-in-github",
        "colab_type": "text"
      },
      "source": [
        "<a href=\"https://colab.research.google.com/github/koshelmisis/koshel_d_s/blob/master/Untitled6.ipynb\" target=\"_parent\"><img src=\"https://colab.research.google.com/assets/colab-badge.svg\" alt=\"Open In Colab\"/></a>"
      ]
    },
    {
      "cell_type": "code",
      "metadata": {
        "id": "Jq658lYvY2ji",
        "colab_type": "code",
        "colab": {}
      },
      "source": [
        "import numpy as np"
      ],
      "execution_count": 0,
      "outputs": []
    },
    {
      "cell_type": "code",
      "metadata": {
        "id": "q1BC29AZZYb0",
        "colab_type": "code",
        "colab": {}
      },
      "source": [
        "import pandas as pd"
      ],
      "execution_count": 0,
      "outputs": []
    },
    {
      "cell_type": "code",
      "metadata": {
        "id": "-3feUi3nZlGg",
        "colab_type": "code",
        "colab": {}
      },
      "source": [
        "import statsmodels.api as m"
      ],
      "execution_count": 0,
      "outputs": []
    },
    {
      "cell_type": "code",
      "metadata": {
        "id": "cleoij0JZ7nX",
        "colab_type": "code",
        "colab": {}
      },
      "source": [
        "import patsy as pt"
      ],
      "execution_count": 0,
      "outputs": []
    },
    {
      "cell_type": "code",
      "metadata": {
        "id": "gBBGwZGBaUeE",
        "colab_type": "code",
        "outputId": "002f325e-1f17-4ebe-ba08-5a82e26ccf6e",
        "colab": {
          "base_uri": "https://localhost:8080/",
          "height": 542
        }
      },
      "source": [
        "df = pd.DataFrame.from_csv(\"flavors_of_cacao.csv\")\n",
        "\n"
      ],
      "execution_count": 0,
      "outputs": [
        {
          "output_type": "stream",
          "text": [
            "/usr/local/lib/python3.6/dist-packages/ipykernel_launcher.py:1: FutureWarning: from_csv is deprecated. Please use read_csv(...) instead. Note that some of the default arguments are different, so please refer to the documentation for from_csv when changing your function calls\n",
            "  \"\"\"Entry point for launching an IPython kernel.\n"
          ],
          "name": "stderr"
        },
        {
          "output_type": "error",
          "ename": "ParserError",
          "evalue": "ignored",
          "traceback": [
            "\u001b[0;31m---------------------------------------------------------------------------\u001b[0m",
            "\u001b[0;31mParserError\u001b[0m                               Traceback (most recent call last)",
            "\u001b[0;32m<ipython-input-31-dadad00408ce>\u001b[0m in \u001b[0;36m<module>\u001b[0;34m()\u001b[0m\n\u001b[0;32m----> 1\u001b[0;31m \u001b[0mdf\u001b[0m \u001b[0;34m=\u001b[0m \u001b[0mpd\u001b[0m\u001b[0;34m.\u001b[0m\u001b[0mDataFrame\u001b[0m\u001b[0;34m.\u001b[0m\u001b[0mfrom_csv\u001b[0m\u001b[0;34m(\u001b[0m\u001b[0;34m\"flavors_of_cacao.csv\"\u001b[0m\u001b[0;34m)\u001b[0m\u001b[0;34m\u001b[0m\u001b[0;34m\u001b[0m\u001b[0m\n\u001b[0m\u001b[1;32m      2\u001b[0m \u001b[0;34m\u001b[0m\u001b[0m\n",
            "\u001b[0;32m/usr/local/lib/python3.6/dist-packages/pandas/core/frame.py\u001b[0m in \u001b[0;36mfrom_csv\u001b[0;34m(cls, path, header, sep, index_col, parse_dates, encoding, tupleize_cols, infer_datetime_format)\u001b[0m\n\u001b[1;32m   1899\u001b[0m                         \u001b[0mparse_dates\u001b[0m\u001b[0;34m=\u001b[0m\u001b[0mparse_dates\u001b[0m\u001b[0;34m,\u001b[0m \u001b[0mindex_col\u001b[0m\u001b[0;34m=\u001b[0m\u001b[0mindex_col\u001b[0m\u001b[0;34m,\u001b[0m\u001b[0;34m\u001b[0m\u001b[0;34m\u001b[0m\u001b[0m\n\u001b[1;32m   1900\u001b[0m                         \u001b[0mencoding\u001b[0m\u001b[0;34m=\u001b[0m\u001b[0mencoding\u001b[0m\u001b[0;34m,\u001b[0m \u001b[0mtupleize_cols\u001b[0m\u001b[0;34m=\u001b[0m\u001b[0mtupleize_cols\u001b[0m\u001b[0;34m,\u001b[0m\u001b[0;34m\u001b[0m\u001b[0;34m\u001b[0m\u001b[0m\n\u001b[0;32m-> 1901\u001b[0;31m                         infer_datetime_format=infer_datetime_format)\n\u001b[0m\u001b[1;32m   1902\u001b[0m \u001b[0;34m\u001b[0m\u001b[0m\n\u001b[1;32m   1903\u001b[0m     \u001b[0;32mdef\u001b[0m \u001b[0mto_sparse\u001b[0m\u001b[0;34m(\u001b[0m\u001b[0mself\u001b[0m\u001b[0;34m,\u001b[0m \u001b[0mfill_value\u001b[0m\u001b[0;34m=\u001b[0m\u001b[0;32mNone\u001b[0m\u001b[0;34m,\u001b[0m \u001b[0mkind\u001b[0m\u001b[0;34m=\u001b[0m\u001b[0;34m'block'\u001b[0m\u001b[0;34m)\u001b[0m\u001b[0;34m:\u001b[0m\u001b[0;34m\u001b[0m\u001b[0;34m\u001b[0m\u001b[0m\n",
            "\u001b[0;32m/usr/local/lib/python3.6/dist-packages/pandas/io/parsers.py\u001b[0m in \u001b[0;36mparser_f\u001b[0;34m(filepath_or_buffer, sep, delimiter, header, names, index_col, usecols, squeeze, prefix, mangle_dupe_cols, dtype, engine, converters, true_values, false_values, skipinitialspace, skiprows, skipfooter, nrows, na_values, keep_default_na, na_filter, verbose, skip_blank_lines, parse_dates, infer_datetime_format, keep_date_col, date_parser, dayfirst, iterator, chunksize, compression, thousands, decimal, lineterminator, quotechar, quoting, doublequote, escapechar, comment, encoding, dialect, tupleize_cols, error_bad_lines, warn_bad_lines, delim_whitespace, low_memory, memory_map, float_precision)\u001b[0m\n\u001b[1;32m    700\u001b[0m                     skip_blank_lines=skip_blank_lines)\n\u001b[1;32m    701\u001b[0m \u001b[0;34m\u001b[0m\u001b[0m\n\u001b[0;32m--> 702\u001b[0;31m         \u001b[0;32mreturn\u001b[0m \u001b[0m_read\u001b[0m\u001b[0;34m(\u001b[0m\u001b[0mfilepath_or_buffer\u001b[0m\u001b[0;34m,\u001b[0m \u001b[0mkwds\u001b[0m\u001b[0;34m)\u001b[0m\u001b[0;34m\u001b[0m\u001b[0;34m\u001b[0m\u001b[0m\n\u001b[0m\u001b[1;32m    703\u001b[0m \u001b[0;34m\u001b[0m\u001b[0m\n\u001b[1;32m    704\u001b[0m     \u001b[0mparser_f\u001b[0m\u001b[0;34m.\u001b[0m\u001b[0m__name__\u001b[0m \u001b[0;34m=\u001b[0m \u001b[0mname\u001b[0m\u001b[0;34m\u001b[0m\u001b[0;34m\u001b[0m\u001b[0m\n",
            "\u001b[0;32m/usr/local/lib/python3.6/dist-packages/pandas/io/parsers.py\u001b[0m in \u001b[0;36m_read\u001b[0;34m(filepath_or_buffer, kwds)\u001b[0m\n\u001b[1;32m    433\u001b[0m \u001b[0;34m\u001b[0m\u001b[0m\n\u001b[1;32m    434\u001b[0m     \u001b[0;32mtry\u001b[0m\u001b[0;34m:\u001b[0m\u001b[0;34m\u001b[0m\u001b[0;34m\u001b[0m\u001b[0m\n\u001b[0;32m--> 435\u001b[0;31m         \u001b[0mdata\u001b[0m \u001b[0;34m=\u001b[0m \u001b[0mparser\u001b[0m\u001b[0;34m.\u001b[0m\u001b[0mread\u001b[0m\u001b[0;34m(\u001b[0m\u001b[0mnrows\u001b[0m\u001b[0;34m)\u001b[0m\u001b[0;34m\u001b[0m\u001b[0;34m\u001b[0m\u001b[0m\n\u001b[0m\u001b[1;32m    436\u001b[0m     \u001b[0;32mfinally\u001b[0m\u001b[0;34m:\u001b[0m\u001b[0;34m\u001b[0m\u001b[0;34m\u001b[0m\u001b[0m\n\u001b[1;32m    437\u001b[0m         \u001b[0mparser\u001b[0m\u001b[0;34m.\u001b[0m\u001b[0mclose\u001b[0m\u001b[0;34m(\u001b[0m\u001b[0;34m)\u001b[0m\u001b[0;34m\u001b[0m\u001b[0;34m\u001b[0m\u001b[0m\n",
            "\u001b[0;32m/usr/local/lib/python3.6/dist-packages/pandas/io/parsers.py\u001b[0m in \u001b[0;36mread\u001b[0;34m(self, nrows)\u001b[0m\n\u001b[1;32m   1137\u001b[0m     \u001b[0;32mdef\u001b[0m \u001b[0mread\u001b[0m\u001b[0;34m(\u001b[0m\u001b[0mself\u001b[0m\u001b[0;34m,\u001b[0m \u001b[0mnrows\u001b[0m\u001b[0;34m=\u001b[0m\u001b[0;32mNone\u001b[0m\u001b[0;34m)\u001b[0m\u001b[0;34m:\u001b[0m\u001b[0;34m\u001b[0m\u001b[0;34m\u001b[0m\u001b[0m\n\u001b[1;32m   1138\u001b[0m         \u001b[0mnrows\u001b[0m \u001b[0;34m=\u001b[0m \u001b[0m_validate_integer\u001b[0m\u001b[0;34m(\u001b[0m\u001b[0;34m'nrows'\u001b[0m\u001b[0;34m,\u001b[0m \u001b[0mnrows\u001b[0m\u001b[0;34m)\u001b[0m\u001b[0;34m\u001b[0m\u001b[0;34m\u001b[0m\u001b[0m\n\u001b[0;32m-> 1139\u001b[0;31m         \u001b[0mret\u001b[0m \u001b[0;34m=\u001b[0m \u001b[0mself\u001b[0m\u001b[0;34m.\u001b[0m\u001b[0m_engine\u001b[0m\u001b[0;34m.\u001b[0m\u001b[0mread\u001b[0m\u001b[0;34m(\u001b[0m\u001b[0mnrows\u001b[0m\u001b[0;34m)\u001b[0m\u001b[0;34m\u001b[0m\u001b[0;34m\u001b[0m\u001b[0m\n\u001b[0m\u001b[1;32m   1140\u001b[0m \u001b[0;34m\u001b[0m\u001b[0m\n\u001b[1;32m   1141\u001b[0m         \u001b[0;31m# May alter columns / col_dict\u001b[0m\u001b[0;34m\u001b[0m\u001b[0;34m\u001b[0m\u001b[0;34m\u001b[0m\u001b[0m\n",
            "\u001b[0;32m/usr/local/lib/python3.6/dist-packages/pandas/io/parsers.py\u001b[0m in \u001b[0;36mread\u001b[0;34m(self, nrows)\u001b[0m\n\u001b[1;32m   1993\u001b[0m     \u001b[0;32mdef\u001b[0m \u001b[0mread\u001b[0m\u001b[0;34m(\u001b[0m\u001b[0mself\u001b[0m\u001b[0;34m,\u001b[0m \u001b[0mnrows\u001b[0m\u001b[0;34m=\u001b[0m\u001b[0;32mNone\u001b[0m\u001b[0;34m)\u001b[0m\u001b[0;34m:\u001b[0m\u001b[0;34m\u001b[0m\u001b[0;34m\u001b[0m\u001b[0m\n\u001b[1;32m   1994\u001b[0m         \u001b[0;32mtry\u001b[0m\u001b[0;34m:\u001b[0m\u001b[0;34m\u001b[0m\u001b[0;34m\u001b[0m\u001b[0m\n\u001b[0;32m-> 1995\u001b[0;31m             \u001b[0mdata\u001b[0m \u001b[0;34m=\u001b[0m \u001b[0mself\u001b[0m\u001b[0;34m.\u001b[0m\u001b[0m_reader\u001b[0m\u001b[0;34m.\u001b[0m\u001b[0mread\u001b[0m\u001b[0;34m(\u001b[0m\u001b[0mnrows\u001b[0m\u001b[0;34m)\u001b[0m\u001b[0;34m\u001b[0m\u001b[0;34m\u001b[0m\u001b[0m\n\u001b[0m\u001b[1;32m   1996\u001b[0m         \u001b[0;32mexcept\u001b[0m \u001b[0mStopIteration\u001b[0m\u001b[0;34m:\u001b[0m\u001b[0;34m\u001b[0m\u001b[0;34m\u001b[0m\u001b[0m\n\u001b[1;32m   1997\u001b[0m             \u001b[0;32mif\u001b[0m \u001b[0mself\u001b[0m\u001b[0;34m.\u001b[0m\u001b[0m_first_chunk\u001b[0m\u001b[0;34m:\u001b[0m\u001b[0;34m\u001b[0m\u001b[0;34m\u001b[0m\u001b[0m\n",
            "\u001b[0;32mpandas/_libs/parsers.pyx\u001b[0m in \u001b[0;36mpandas._libs.parsers.TextReader.read\u001b[0;34m()\u001b[0m\n",
            "\u001b[0;32mpandas/_libs/parsers.pyx\u001b[0m in \u001b[0;36mpandas._libs.parsers.TextReader._read_low_memory\u001b[0;34m()\u001b[0m\n",
            "\u001b[0;32mpandas/_libs/parsers.pyx\u001b[0m in \u001b[0;36mpandas._libs.parsers.TextReader._read_rows\u001b[0;34m()\u001b[0m\n",
            "\u001b[0;32mpandas/_libs/parsers.pyx\u001b[0m in \u001b[0;36mpandas._libs.parsers.TextReader._tokenize_rows\u001b[0;34m()\u001b[0m\n",
            "\u001b[0;32mpandas/_libs/parsers.pyx\u001b[0m in \u001b[0;36mpandas._libs.parsers.raise_parser_error\u001b[0;34m()\u001b[0m\n",
            "\u001b[0;31mParserError\u001b[0m: Error tokenizing data. C error: Expected 9 fields in line 299, saw 16\n"
          ]
        }
      ]
    },
    {
      "cell_type": "code",
      "metadata": {
        "id": "YBMBCkNNga_1",
        "colab_type": "code",
        "outputId": "356208d5-9744-455c-ac9c-0a3e4bbd406e",
        "colab": {
          "base_uri": "https://localhost:8080/",
          "height": 1000
        }
      },
      "source": [
        "x = df.iloc[:,:5]\n",
        "x = x + df.iloc[:,:-2]\n",
        "print(x)\n"
      ],
      "execution_count": 0,
      "outputs": [
        {
          "output_type": "stream",
          "text": [
            "                           Cocoa\\nPercent  ...                  Specific Bean Origin\\nor Bar Name\n",
            "Company \\n(Maker-if known)                 ...                                                   \n",
            "A. Morin                           63%63%  ...                             Agua GrandeAgua Grande\n",
            "A. Morin                           70%70%  ...                                         KpimeKpime\n",
            "A. Morin                           70%70%  ...                                       AtsaneAtsane\n",
            "A. Morin                           70%70%  ...                                         AkataAkata\n",
            "A. Morin                           70%70%  ...                                       QuillaQuilla\n",
            "A. Morin                           70%70%  ...                                   CareneroCarenero\n",
            "A. Morin                           70%70%  ...                                           CubaCuba\n",
            "A. Morin                           70%70%  ...                           Sur del LagoSur del Lago\n",
            "A. Morin                           70%70%  ...                       Puerto CabelloPuerto Cabello\n",
            "A. Morin                           70%70%  ...                                     PablinoPablino\n",
            "A. Morin                           70%70%  ...                                       PanamaPanama\n",
            "A. Morin                           70%70%  ...                               MadagascarMadagascar\n",
            "A. Morin                           70%70%  ...                                       BrazilBrazil\n",
            "A. Morin                           70%70%  ...                                   EquateurEquateur\n",
            "A. Morin                           70%70%  ...                                   ColombieColombie\n",
            "A. Morin                           70%70%  ...                                   BirmanieBirmanie\n",
            "A. Morin                           70%70%  ...                   Papua New GuineaPapua New Guinea\n",
            "A. Morin                           70%70%  ...                                         ChuaoChuao\n",
            "A. Morin                           70%70%  ...                                         PiuraPiura\n",
            "A. Morin                           70%70%  ...           Chanchamayo ProvinceChanchamayo Province\n",
            "A. Morin                           63%63%  ...           Chanchamayo ProvinceChanchamayo Province\n",
            "A. Morin                           70%70%  ...                                     BoliviaBolivia\n",
            "A. Morin                           63%63%  ...                                           PeruPeru\n",
            "Acalli                             70%70%  ...     Chulucanas, El PlatanalChulucanas, El Platanal\n",
            "Acalli                             70%70%  ...                 Tumbes, NorandinoTumbes, Norandino\n",
            "Adi                                60%60%  ...                               Vanua LevuVanua Levu\n",
            "Adi                                80%80%  ...               Vanua Levu, Toto-AVanua Levu, Toto-A\n",
            "Adi                                88%88%  ...                               Vanua LevuVanua Levu\n",
            "Adi                                72%72%  ...       Vanua Levu, Ami-Ami-CAVanua Levu, Ami-Ami-CA\n",
            "Aequare (Gianduja)                 55%55%  ...  Los Rios, Quevedo, ArribaLos Rios, Quevedo, Ar...\n",
            "...                                   ...  ...                                                ...\n",
            "Zak's                              70%70%  ...                     Belize, Batch 2Belize, Batch 2\n",
            "Zak's                              60%60%  ...           House Blend, Batch 2House Blend, Batch 2\n",
            "Zart Pralinen                      70%70%  ...               Millot P., AmbanjaMillot P., Ambanja\n",
            "Zart Pralinen                      70%70%  ...                                     UNOCACEUNOCACE\n",
            "Zart Pralinen                      85%85%  ...                     San Juan EstateSan Juan Estate\n",
            "Zart Pralinen                      85%85%  ...  Kakao Kamili, Kilombero ValleyKakao Kamili, Ki...\n",
            "Zart Pralinen                      70%70%  ...  Kakao Kamili, Kilombero ValleyKakao Kamili, Ki...\n",
            "Zart Pralinen                      78%78%  ...  San Juan Estate, Gran CouvaSan Juan Estate, Gr...\n",
            "Zokoko                             78%78%  ...                             GuadalcanalGuadalcanal\n",
            "Zokoko                             65%65%  ...                         Goddess BlendGoddess Blend\n",
            "Zokoko                             68%68%  ...                                 Alto BeniAlto Beni\n",
            "Zokoko                             66%66%  ...                                     TokialaTokiala\n",
            "Zokoko                             72%72%  ...           Tranquilidad, BauresTranquilidad, Baures\n",
            "Zotter                             80%80%  ...                                             RawRaw\n",
            "Zotter                             72%72%  ...  Bocas del Toro, Cocabo Co-opBocas del Toro, Co...\n",
            "Zotter                             65%65%  ...                     Amazonas FruchtAmazonas Frucht\n",
            "Zotter                             70%70%  ...  Satipo Pangoa region, 16hr concheSatipo Pangoa...\n",
            "Zotter                             70%70%  ...  Satipo Pangoa region, 20hr concheSatipo Pangoa...\n",
            "Zotter                             62%62%  ...  Loma Los Pinos, Yacao region, D.R.Loma Los Pin...\n",
            "Zotter                             75%75%  ...                                       El OroEl Oro\n",
            "Zotter                             75%75%  ...                           Huiwani CoopHuiwani Coop\n",
            "Zotter                             90%90%  ...                         El Ceibo CoopEl Ceibo Coop\n",
            "Zotter                             70%70%  ...                         Santo DomingoSanto Domingo\n",
            "Zotter                             68%68%  ...                   Kongo, HighlandsKongo, Highlands\n",
            "Zotter                             58%58%  ...                         Indianer, RawIndianer, Raw\n",
            "Zotter                             70%70%  ...                                           PeruPeru\n",
            "Zotter                             65%65%  ...                                         CongoCongo\n",
            "Zotter                             65%65%  ...                           Kerala StateKerala State\n",
            "Zotter                             62%62%  ...                           Kerala StateKerala State\n",
            "Zotter                             65%65%  ...               Brazil, Mitzi BlueBrazil, Mitzi Blue\n",
            "\n",
            "[1795 rows x 6 columns]\n"
          ],
          "name": "stdout"
        }
      ]
    }
  ]
}