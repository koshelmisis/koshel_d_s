{
  "nbformat": 4,
  "nbformat_minor": 0,
  "metadata": {
    "colab": {
      "name": "Untitled9.ipynb",
      "provenance": [],
      "include_colab_link": true
    },
    "kernelspec": {
      "name": "python3",
      "display_name": "Python 3"
    }
  },
  "cells": [
    {
      "cell_type": "markdown",
      "metadata": {
        "id": "view-in-github",
        "colab_type": "text"
      },
      "source": [
        "<a href=\"https://colab.research.google.com/github/koshelmisis/koshel_d_s/blob/master/Untitled9.ipynb\" target=\"_parent\"><img src=\"https://colab.research.google.com/assets/colab-badge.svg\" alt=\"Open In Colab\"/></a>"
      ]
    },
    {
      "cell_type": "code",
      "metadata": {
        "id": "w1_O5YK-qI-y",
        "colab_type": "code",
        "colab": {}
      },
      "source": [
        "from sklearn.datasets import load_digits\n"
      ],
      "execution_count": 0,
      "outputs": []
    },
    {
      "cell_type": "code",
      "metadata": {
        "id": "3oHzvymfrTXu",
        "colab_type": "code",
        "colab": {}
      },
      "source": [
        "\tdigits = load_digits()\n"
      ],
      "execution_count": 0,
      "outputs": []
    },
    {
      "cell_type": "code",
      "metadata": {
        "id": "hs-0mgdiryA8",
        "colab_type": "code",
        "colab": {}
      },
      "source": [
        "\timport matplotlib.pyplot as plt\n",
        "\t"
      ],
      "execution_count": 0,
      "outputs": []
    },
    {
      "cell_type": "code",
      "metadata": {
        "id": "mIChogDhr06l",
        "colab_type": "code",
        "colab": {
          "base_uri": "https://localhost:8080/",
          "height": 34
        },
        "outputId": "6a573e5d-8645-4e64-f664-a35f0079325b"
      },
      "source": [
        "plt.gray()\n"
      ],
      "execution_count": 61,
      "outputs": [
        {
          "output_type": "display_data",
          "data": {
            "text/plain": [
              "<Figure size 432x288 with 0 Axes>"
            ]
          },
          "metadata": {
            "tags": []
          }
        }
      ]
    },
    {
      "cell_type": "code",
      "metadata": {
        "colab_type": "code",
        "outputId": "0653d166-09da-443f-a46b-dac98dd27e81",
        "id": "OEEQACwI1NQF",
        "colab": {
          "base_uri": "https://localhost:8080/",
          "height": 292
        }
      },
      "source": [
        "plt.matshow(digits.images[1])\n"
      ],
      "execution_count": 0,
      "outputs": [
        {
          "output_type": "execute_result",
          "data": {
            "text/plain": [
              "<matplotlib.image.AxesImage at 0x7fc325790128>"
            ]
          },
          "metadata": {
            "tags": []
          },
          "execution_count": 55
        },
        {
          "output_type": "display_data",
          "data": {
            "image/png": "[encoded data removed]",
            "text/plain": [
              "<Figure size 288x288 with 1 Axes>"
            ]
          },
          "metadata": {
            "tags": []
          }
        }
      ]
    },
    {
      "cell_type": "code",
      "metadata": {
        "id": "coHPXdczr8SI",
        "colab_type": "code",
        "colab": {}
      },
      "source": [
        "\tplt.show()"
      ],
      "execution_count": 0,
      "outputs": []
    },
    {
      "cell_type": "code",
      "metadata": {
        "id": "6-0toRUqtp-M",
        "colab_type": "code",
        "colab": {}
      },
      "source": [
        "from sklearn.preprocessing import StandardScaler"
      ],
      "execution_count": 0,
      "outputs": []
    },
    {
      "cell_type": "code",
      "metadata": {
        "id": "SlFcu31RtvRx",
        "colab_type": "code",
        "colab": {}
      },
      "source": [
        "X_scale = StandardScaler()"
      ],
      "execution_count": 0,
      "outputs": []
    },
    {
      "cell_type": "code",
      "metadata": {
        "id": "tRSbFB75txbn",
        "colab_type": "code",
        "colab": {}
      },
      "source": [
        "X = X_scale.fit_transform(digits.data)"
      ],
      "execution_count": 0,
      "outputs": []
    },
    {
      "cell_type": "code",
      "metadata": {
        "id": "CAyJ1ewsuCHd",
        "colab_type": "code",
        "colab": {}
      },
      "source": [
        "from sklearn.model_selection import train_test_split\n"
      ],
      "execution_count": 0,
      "outputs": []
    },
    {
      "cell_type": "code",
      "metadata": {
        "id": "DbR-Wm-RuE4v",
        "colab_type": "code",
        "colab": {}
      },
      "source": [
        "y = digits.target\n"
      ],
      "execution_count": 0,
      "outputs": []
    },
    {
      "cell_type": "code",
      "metadata": {
        "id": "kY02HJqmuG-b",
        "colab_type": "code",
        "colab": {}
      },
      "source": [
        "X_train, X_test, y_train, y_test = train_test_split(X, y, test_size=0.4)"
      ],
      "execution_count": 0,
      "outputs": []
    },
    {
      "cell_type": "code",
      "metadata": {
        "id": "vNyJXfJ5uuEp",
        "colab_type": "code",
        "colab": {}
      },
      "source": [
        "import numpy as np"
      ],
      "execution_count": 0,
      "outputs": []
    },
    {
      "cell_type": "code",
      "metadata": {
        "id": "S6H6N3p_u1vn",
        "colab_type": "code",
        "colab": {}
      },
      "source": [
        "def convert_y_to_vect(y):\n",
        "    y_vect = np.zeros((len(y), 10))\n",
        "    for i in range(len(y)):\n",
        "        y_vect[i, y[i]] = 1\n",
        "    return y_vect"
      ],
      "execution_count": 0,
      "outputs": []
    },
    {
      "cell_type": "code",
      "metadata": {
        "id": "C4aJXL6vvsTl",
        "colab_type": "code",
        "colab": {}
      },
      "source": [
        "y_v_train = convert_y_to_vect(y_train)\n"
      ],
      "execution_count": 0,
      "outputs": []
    },
    {
      "cell_type": "code",
      "metadata": {
        "id": "XbyxFbbGvxsW",
        "colab_type": "code",
        "colab": {}
      },
      "source": [
        "y_v_test = convert_y_to_vect(y_test)\n"
      ],
      "execution_count": 0,
      "outputs": []
    },
    {
      "cell_type": "code",
      "metadata": {
        "id": "DZlEfmsrwHT1",
        "colab_type": "code",
        "colab": {}
      },
      "source": [
        "nn_structure = [64, 30, 10]"
      ],
      "execution_count": 0,
      "outputs": []
    },
    {
      "cell_type": "code",
      "metadata": {
        "id": "es9G-GiYwRS6",
        "colab_type": "code",
        "colab": {}
      },
      "source": [
        "def f(x):\n",
        "    return 1 / (1 + np.exp(-x))"
      ],
      "execution_count": 0,
      "outputs": []
    },
    {
      "cell_type": "code",
      "metadata": {
        "id": "XCqhEKLQwS7q",
        "colab_type": "code",
        "colab": {}
      },
      "source": [
        "def f_deriv(x):\n",
        "    return f(x) * (1 - f(x))"
      ],
      "execution_count": 0,
      "outputs": []
    },
    {
      "cell_type": "code",
      "metadata": {
        "id": "hCdTyVkcweU_",
        "colab_type": "code",
        "colab": {}
      },
      "source": [
        "import numpy.random as r\n"
      ],
      "execution_count": 0,
      "outputs": []
    },
    {
      "cell_type": "code",
      "metadata": {
        "id": "_t2mFMSbw8X9",
        "colab_type": "code",
        "colab": {}
      },
      "source": [
        "def setup_and_init_weights(nn_structure):\n",
        "    W = {}\n",
        "    b = {}\n",
        "    for l in range(1, len(nn_structure)):\n",
        "        W[l] = r.random_sample((nn_structure[l], nn_structure[l-1]))\n",
        "        b[l] = r.random_sample((nn_structure[l],))\n",
        "    return W, b"
      ],
      "execution_count": 0,
      "outputs": []
    },
    {
      "cell_type": "code",
      "metadata": {
        "id": "uQ4SIWPixKrR",
        "colab_type": "code",
        "colab": {}
      },
      "source": [
        "def init_tri_values(nn_structure):\n",
        "    tri_W = {}\n",
        "    tri_b = {}\n",
        "    for l in range(1, len(nn_structure)):\n",
        "        tri_W[l] = np.zeros((nn_structure[l], nn_structure[l-1]))\n",
        "        tri_b[l] = np.zeros((nn_structure[l],))\n",
        "    return tri_W, tri_b"
      ],
      "execution_count": 0,
      "outputs": []
    },
    {
      "cell_type": "code",
      "metadata": {
        "id": "FGMSto4K1a0k",
        "colab_type": "code",
        "colab": {}
      },
      "source": [
        "def feed_forward(x, W, b):\n",
        "    h = {1: x}\n",
        "    z = {}\n",
        "    for l in range(1, len(W) + 1): \n",
        "      if l == 1: \n",
        "        node_in = x \n",
        "      else: \n",
        "          node_in = h[l]\n",
        "          \n",
        "    z[l+1] = W[l].dot(node_in) + b[l]   \n",
        "    h[l+1] = f(z[l+1]) \n",
        "    return h, z"
      ],
      "execution_count": 0,
      "outputs": []
    },
    {
      "cell_type": "code",
      "metadata": {
        "id": "u22nvg6o2fEU",
        "colab_type": "code",
        "colab": {}
      },
      "source": [
        "def calculate_out_layer_delta(y, h_out, z_out):\n",
        "    # delta^(nl) = -(y_i - h_i^(nl)) * f'(z_i^(nl))\n",
        "    return -(y-h_out) * f_deriv(z_out)"
      ],
      "execution_count": 0,
      "outputs": []
    },
    {
      "cell_type": "code",
      "metadata": {
        "id": "BXeESGbl2p0A",
        "colab_type": "code",
        "colab": {}
      },
      "source": [
        "def calculate_hidden_delta(delta_plus_1, w_l, z_l):\n",
        "    return np.dot(np.transpose(w_l), delta_plus_1) * f_deriv(z_l)"
      ],
      "execution_count": 0,
      "outputs": []
    },
    {
      "cell_type": "code",
      "metadata": {
        "id": "s1QEtuB5-Ln7",
        "colab_type": "code",
        "colab": {}
      },
      "source": [
        "def train_nn(nn_structure, X, y, iter_num=3000, alpha=0.25):\n",
        "    W, b = setup_and_init_weights(nn_structure)\n",
        "    cnt = 0\n",
        "    m = len(y)\n",
        "    delta = np.zeros((m,m))\n",
        "    avg_cost_func = []\n",
        "    print('Начало градиентного спуска для {} итераций'.format(iter_num))\n",
        "    while cnt < iter_num:\n",
        "                    for l in range(m-2, 0, -1):\n",
        "                     delta[l] = calculate_hidden_delta(delta[l+1], W[l], z[l])\n",
        "                     tri_W[l] += np.dot(delta[l+1][:,np.newaxis], np.transpose(h[l][:,np.newaxis])) \n",
        "                     tri_b[l] += delta[l+1]\n",
        "                     for k in range(len(nn_structure) - 1, 0, -1):\n",
        "                        W[k] += -alpha * (1.0/m * tri_W[k])\n",
        "                        b[k] += -alpha * (1.0/m * tri_b[k])\n",
        "                     avg_cost = 1.0/m * tri_W[l]\n",
        "                    avg_cost_func.append(avg_cost)\n",
        "                    cnt += 1\n",
        "    return W, b, avg_cost_func"
      ],
      "execution_count": 0,
      "outputs": []
    },
    {
      "cell_type": "code",
      "metadata": {
        "id": "SHiN5-_zf0VX",
        "colab_type": "code",
        "colab": {
          "base_uri": "https://localhost:8080/",
          "height": 296
        },
        "outputId": "77504d7c-4ea8-4cad-e6d0-9cb3e3b06ed0"
      },
      "source": [
        "W, b, avg_cost_func = train_nn(nn_structure, X_train, y_v_train)\n"
      ],
      "execution_count": 235,
      "outputs": [
        {
          "output_type": "stream",
          "text": [
            "Начало градиентного спуска для 3000 итераций\n"
          ],
          "name": "stdout"
        },
        {
          "output_type": "error",
          "ename": "KeyError",
          "evalue": "ignored",
          "traceback": [
            "\u001b[0;31m---------------------------------------------------------------------------\u001b[0m",
            "\u001b[0;31mKeyError\u001b[0m                                  Traceback (most recent call last)",
            "\u001b[0;32m<ipython-input-235-d301c004a775>\u001b[0m in \u001b[0;36m<module>\u001b[0;34m()\u001b[0m\n\u001b[0;32m----> 1\u001b[0;31m \u001b[0mW\u001b[0m\u001b[0;34m,\u001b[0m \u001b[0mb\u001b[0m\u001b[0;34m,\u001b[0m \u001b[0mavg_cost_func\u001b[0m \u001b[0;34m=\u001b[0m \u001b[0mtrain_nn\u001b[0m\u001b[0;34m(\u001b[0m\u001b[0mnn_structure\u001b[0m\u001b[0;34m,\u001b[0m \u001b[0mX_train\u001b[0m\u001b[0;34m,\u001b[0m \u001b[0my_v_train\u001b[0m\u001b[0;34m)\u001b[0m\u001b[0;34m\u001b[0m\u001b[0;34m\u001b[0m\u001b[0m\n\u001b[0m",
            "\u001b[0;32m<ipython-input-234-091f3271ea79>\u001b[0m in \u001b[0;36mtrain_nn\u001b[0;34m(nn_structure, X, y, iter_num, alpha)\u001b[0m\n\u001b[1;32m      8\u001b[0m     \u001b[0;32mwhile\u001b[0m \u001b[0mcnt\u001b[0m \u001b[0;34m<\u001b[0m \u001b[0miter_num\u001b[0m\u001b[0;34m:\u001b[0m\u001b[0;34m\u001b[0m\u001b[0;34m\u001b[0m\u001b[0m\n\u001b[1;32m      9\u001b[0m                     \u001b[0;32mfor\u001b[0m \u001b[0ml\u001b[0m \u001b[0;32min\u001b[0m \u001b[0mrange\u001b[0m\u001b[0;34m(\u001b[0m\u001b[0mm\u001b[0m\u001b[0;34m-\u001b[0m\u001b[0;36m2\u001b[0m\u001b[0;34m,\u001b[0m \u001b[0;36m0\u001b[0m\u001b[0;34m,\u001b[0m \u001b[0;34m-\u001b[0m\u001b[0;36m1\u001b[0m\u001b[0;34m)\u001b[0m\u001b[0;34m:\u001b[0m\u001b[0;34m\u001b[0m\u001b[0;34m\u001b[0m\u001b[0m\n\u001b[0;32m---> 10\u001b[0;31m                      \u001b[0mdelta\u001b[0m\u001b[0;34m[\u001b[0m\u001b[0ml\u001b[0m\u001b[0;34m]\u001b[0m \u001b[0;34m=\u001b[0m \u001b[0mcalculate_hidden_delta\u001b[0m\u001b[0;34m(\u001b[0m\u001b[0mdelta\u001b[0m\u001b[0;34m[\u001b[0m\u001b[0ml\u001b[0m\u001b[0;34m+\u001b[0m\u001b[0;36m1\u001b[0m\u001b[0;34m]\u001b[0m\u001b[0;34m,\u001b[0m \u001b[0mW\u001b[0m\u001b[0;34m[\u001b[0m\u001b[0ml\u001b[0m\u001b[0;34m]\u001b[0m\u001b[0;34m,\u001b[0m \u001b[0mz\u001b[0m\u001b[0;34m[\u001b[0m\u001b[0ml\u001b[0m\u001b[0;34m]\u001b[0m\u001b[0;34m)\u001b[0m\u001b[0;34m\u001b[0m\u001b[0;34m\u001b[0m\u001b[0m\n\u001b[0m\u001b[1;32m     11\u001b[0m                      \u001b[0mtri_W\u001b[0m\u001b[0;34m[\u001b[0m\u001b[0ml\u001b[0m\u001b[0;34m]\u001b[0m \u001b[0;34m+=\u001b[0m \u001b[0mnp\u001b[0m\u001b[0;34m.\u001b[0m\u001b[0mdot\u001b[0m\u001b[0;34m(\u001b[0m\u001b[0mdelta\u001b[0m\u001b[0;34m[\u001b[0m\u001b[0ml\u001b[0m\u001b[0;34m+\u001b[0m\u001b[0;36m1\u001b[0m\u001b[0;34m]\u001b[0m\u001b[0;34m[\u001b[0m\u001b[0;34m:\u001b[0m\u001b[0;34m,\u001b[0m\u001b[0mnp\u001b[0m\u001b[0;34m.\u001b[0m\u001b[0mnewaxis\u001b[0m\u001b[0;34m]\u001b[0m\u001b[0;34m,\u001b[0m \u001b[0mnp\u001b[0m\u001b[0;34m.\u001b[0m\u001b[0mtranspose\u001b[0m\u001b[0;34m(\u001b[0m\u001b[0mh\u001b[0m\u001b[0;34m[\u001b[0m\u001b[0ml\u001b[0m\u001b[0;34m]\u001b[0m\u001b[0;34m[\u001b[0m\u001b[0;34m:\u001b[0m\u001b[0;34m,\u001b[0m\u001b[0mnp\u001b[0m\u001b[0;34m.\u001b[0m\u001b[0mnewaxis\u001b[0m\u001b[0;34m]\u001b[0m\u001b[0;34m)\u001b[0m\u001b[0;34m)\u001b[0m\u001b[0;34m\u001b[0m\u001b[0;34m\u001b[0m\u001b[0m\n\u001b[1;32m     12\u001b[0m                      \u001b[0mtri_b\u001b[0m\u001b[0;34m[\u001b[0m\u001b[0ml\u001b[0m\u001b[0;34m]\u001b[0m \u001b[0;34m+=\u001b[0m \u001b[0mdelta\u001b[0m\u001b[0;34m[\u001b[0m\u001b[0ml\u001b[0m\u001b[0;34m+\u001b[0m\u001b[0;36m1\u001b[0m\u001b[0;34m]\u001b[0m\u001b[0;34m\u001b[0m\u001b[0;34m\u001b[0m\u001b[0m\n",
            "\u001b[0;31mKeyError\u001b[0m: 1076"
          ]
        }
      ]
    }
  ]
}